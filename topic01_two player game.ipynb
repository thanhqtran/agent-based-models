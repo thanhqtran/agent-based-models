{
  "cells": [
    {
      "cell_type": "code",
      "execution_count": 77,
      "metadata": {
        "id": "nOo_6SGkfVgi"
      },
      "outputs": [],
      "source": [
        "#Topic 1\n",
        "import random\n",
        "import matplotlib.pyplot as plt\n",
        "import numpy as np\n",
        "student_id = 1533\n",
        "birth_month = 12"
      ]
    },
    {
      "cell_type": "code",
      "execution_count": 78,
      "metadata": {
        "colab": {
          "base_uri": "https://localhost:8080/"
        },
        "id": "zL25G6cDfYPe",
        "outputId": "0ce6c3ff-ef26-4c63-c20e-d0b530bfe4da"
      },
      "outputs": [
        {
          "name": "stdout",
          "output_type": "stream",
          "text": [
            "Payoff matrix: [[1, 5], [3, 3]]\n"
          ]
        }
      ],
      "source": [
        "#Define the properties of the player\n",
        "class Player():\n",
        "    #Generate player, take the birthmonth as prob. to init. action 1\n",
        "    def __init__(self,probability):\n",
        "        self.prob = probability\n",
        "        self.histpay = [] #a list to keep payoffs' records\n",
        "    #Define a method -> choice of action\n",
        "    def choice(self):\n",
        "        if random.uniform(0,1) < self.prob: #pay att. to the sign ><\n",
        "            self.act = 1\n",
        "        else:\n",
        "            self.act = 0\n",
        "    #Define a method -> update the histpay\n",
        "    def update_histpay(self):\n",
        "        self.histpay.append(self.payoff)\n",
        "\n",
        "#Define a method to make a list of moving averages \n",
        "def movAve(hist):\n",
        "    cumSum = 0 #Initial record of the cummulative sum\n",
        "    histMV = [] #Initial list to record the moving averages\n",
        "    for i in range(len(hist)):\n",
        "        cumSum += hist[i] #Add the i-th entry in hist to cumSum\n",
        "        histMV.append(cumSum/(i+1)) #append the moving average from 0th to i-th entries to moving averages list\n",
        "    return histMV #the list is the output of this method\n",
        "\n",
        "#Setup the game\n",
        "#Generate the payoff matrix based on student inputs\n",
        "a0 = int(str(student_id)[0])\n",
        "a1 = int(str(student_id)[1])\n",
        "b0 = int(str(student_id)[2])\n",
        "b1 = int(str(student_id)[3])\n",
        "payoff_matrix = [[a0,a1],[b0,b1]]\n",
        "#The payoff associated with the actions\n",
        "def payoff_fn(action1,action2):\n",
        "    payoff1 = payoff_matrix[action1][action2]\n",
        "    payoff2 = payoff_matrix[action2][action1] #p2's payoff is mirrored with p1\n",
        "    return payoff1, payoff2 #the 2 payoffs are the output, the inputs are action\n",
        "print(f'Payoff matrix: {payoff_matrix}')"
      ]
    },
    {
      "cell_type": "code",
      "execution_count": 79,
      "metadata": {
        "colab": {
          "base_uri": "https://localhost:8080/"
        },
        "id": "qnbhOojwfdLF",
        "outputId": "5f54e5c1-9bda-43fc-ac1e-70fc337d9364"
      },
      "outputs": [
        {
          "name": "stdout",
          "output_type": "stream",
          "text": [
            "Expected payoff: 3.07, prop1: 0.96\n"
          ]
        }
      ],
      "source": [
        "#Initate the game\n",
        "#Generate 2 players, taking birthmonth*0.08 as prob of choosing 1 (restart the game from here)\n",
        "prob1 = birth_month*0.08\n",
        "prob0 = 1 - prob1\n",
        "player1 = Player(prob1)\n",
        "player2 = Player(prob1)\n",
        "#Calculate expected payoff (p1 and p2 are symmetric)\n",
        "expected_payoff1 = prob0*(a0*prob0+a1*prob1) + prob1*(b0*prob0+b1*prob1)\n",
        "#Or using matrix operations\n",
        "def exp_payoff_fn(payoff_arr,prob_1):\n",
        "    #Or using matrix operations\n",
        "    payoff_arr = np.array(payoff_arr)\n",
        "    prob_arr = np.array([[1-prob1],[prob1]])\n",
        "    opp = np.matmul(payoff_arr,prob_arr) #payoff based on opp's choice -> 2x1 matrix\n",
        "    prob_arr_t = np.transpose((prob_arr)) #transpose prob_arr to get -> 1x2 matrix\n",
        "    return np.ndarray.item(np.matmul(prob_arr_t,opp)) #get the payoff by mul 1x2 with 2x1 -> 1x1 matrix, ndarray to convert to scalar\n",
        "#Iterate\n",
        "inter_count = []\n",
        "for i in range(100):\n",
        "    inter_count.append(i)\n",
        "    #Players make choices of action\n",
        "    player1.choice()\n",
        "    player2.choice()\n",
        "    #The actions yields payoff\n",
        "    player1.payoff, player2.payoff = payoff_fn(player1.act,player2.act) #actions as the input for the payoff_fn\n",
        "    #Update payoffs' history\n",
        "    player1.update_histpay()\n",
        "    player2.update_histpay()\n",
        "expected_payoff = exp_payoff_fn(payoff_matrix,prob1)\n",
        "print(f'Expected payoff: {round(expected_payoff,2)}, prop1: {prob1}')"
      ]
    },
    {
      "cell_type": "code",
      "execution_count": 80,
      "metadata": {
        "colab": {
          "base_uri": "https://localhost:8080/",
          "height": 330
        },
        "id": "JRlN5wwufgxT",
        "outputId": "ca8aa98b-49dd-4ef8-ab18-8718c2eb9d95"
      },
      "outputs": [
        {
          "name": "stdout",
          "output_type": "stream",
          "text": [
            "The expected payoff is: 3.07 \n",
            "\n",
            "After 100 iterations, the simulation result seems to match with the expected payoff due to the law of large number.\n"
          ]
        },
        {
          "data": {
            "image/png": "[encoded data removed]",
            "text/plain": [
              "<Figure size 432x288 with 1 Axes>"
            ]
          },
          "metadata": {
            "needs_background": "light"
          },
          "output_type": "display_data"
        }
      ],
      "source": [
        "#Use histpay to generate moving average list\n",
        "player1.ma = movAve(player1.histpay)\n",
        "player2.ma = movAve(player2.histpay)\n",
        "#Plot ma(s) against the expected payoff\n",
        "plt.plot(player1.ma, color='blue')\n",
        "plt.plot(player2.ma, color='green')\n",
        "plt.axhline(expected_payoff, color='red')\n",
        "plt.legend(['player1 moving averages','player2 moving avarages','expected payoff'])\n",
        "plt.xlabel('Iteration')\n",
        "plt.ylabel('Payoff')\n",
        "#Summary\n",
        "print(f'The expected payoff is: {round(expected_payoff,2)} \\n')\n",
        "print(f'After {len(inter_count)} iterations, the simulation result seems to match with the expected payoff due to the law of large number.')"
      ]
    }
  ],
  "metadata": {
    "colab": {
      "name": "Comp_Tpc01_Tran_Thanh.ipynb",
      "provenance": []
    },
    "kernelspec": {
      "display_name": "Python 3.7.10 64-bit ('base': conda)",
      "name": "python3710jvsc74a57bd038972a05bee0c498c5d87edf9b52c060314839bfd4ca521a7188c74ccc5f74e4"
    },
    "language_info": {
      "codemirror_mode": {
        "name": "ipython",
        "version": 3
      },
      "file_extension": ".py",
      "mimetype": "text/x-python",
      "name": "python",
      "nbconvert_exporter": "python",
      "pygments_lexer": "ipython3",
      "version": "3.7.10"
    }
  },
  "nbformat": 4,
  "nbformat_minor": 0
}
